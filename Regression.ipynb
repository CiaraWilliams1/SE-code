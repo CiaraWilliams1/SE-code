{
 "cells": [
  {
   "cell_type": "code",
   "execution_count": 73,
   "id": "b9bef227",
   "metadata": {},
   "outputs": [],
   "source": [
    "# Import all the necessary packages.\n",
    "import numpy as np\n",
    "import pandas as pd\n",
    "import statsmodels.api as sm\n",
    "import statsmodels.stats.api as sms\n",
    "import sklearn\n",
    "import matplotlib.pyplot as plt\n",
    "import seaborn as sns\n",
    "\n",
    "from sklearn import linear_model\n",
    "from statsmodels.stats.outliers_influence import variance_inflation_factor\n",
    "from sklearn.model_selection import train_test_split\n",
    "from sklearn import metrics\n",
    "from sklearn.linear_model import LinearRegression\n",
    "from statsmodels.formula.api import ols\n",
    "\n",
    "# Note: Indicates situations that aren’t necessarily exceptions.\n",
    "import warnings  \n",
    "warnings.filterwarnings('ignore')  "
   ]
  },
  {
   "cell_type": "code",
   "execution_count": 155,
   "id": "ea018750",
   "metadata": {},
   "outputs": [],
   "source": [
    "# Read in files from the current working directory.\n",
    "regression = pd.read_excel('Regression.xlsx')\n",
    "regression2 = pd.read_excel('Regression2.xlsx')\n",
    "Total = pd.read_excel('Total.xlsx')"
   ]
  },
  {
   "cell_type": "code",
   "execution_count": 75,
   "id": "0bef3792",
   "metadata": {},
   "outputs": [
    {
     "data": {
      "text/html": [
       "<div>\n",
       "<style scoped>\n",
       "    .dataframe tbody tr th:only-of-type {\n",
       "        vertical-align: middle;\n",
       "    }\n",
       "\n",
       "    .dataframe tbody tr th {\n",
       "        vertical-align: top;\n",
       "    }\n",
       "\n",
       "    .dataframe thead th {\n",
       "        text-align: right;\n",
       "    }\n",
       "</style>\n",
       "<table border=\"1\" class=\"dataframe\">\n",
       "  <thead>\n",
       "    <tr style=\"text-align: right;\">\n",
       "      <th></th>\n",
       "      <th>Year</th>\n",
       "      <th>Month</th>\n",
       "      <th>UniquePeople</th>\n",
       "      <th>Male</th>\n",
       "      <th>Female</th>\n",
       "      <th>1 to 3</th>\n",
       "      <th>4 to 7</th>\n",
       "      <th>8 to 10</th>\n",
       "      <th>1 to 15</th>\n",
       "      <th>16-24</th>\n",
       "      <th>25-34</th>\n",
       "      <th>35-44</th>\n",
       "      <th>45-54</th>\n",
       "      <th>55-64</th>\n",
       "      <th>65-74</th>\n",
       "      <th>75-84</th>\n",
       "      <th>85+</th>\n",
       "      <th>16+</th>\n",
       "    </tr>\n",
       "  </thead>\n",
       "  <tbody>\n",
       "    <tr>\n",
       "      <th>0</th>\n",
       "      <td>2019</td>\n",
       "      <td>Apr</td>\n",
       "      <td>3008313</td>\n",
       "      <td>1619505</td>\n",
       "      <td>1388807</td>\n",
       "      <td>793630</td>\n",
       "      <td>1200002</td>\n",
       "      <td>1014681</td>\n",
       "      <td>1031397</td>\n",
       "      <td>278942</td>\n",
       "      <td>421977</td>\n",
       "      <td>403524</td>\n",
       "      <td>349697</td>\n",
       "      <td>257406</td>\n",
       "      <td>198122</td>\n",
       "      <td>60501</td>\n",
       "      <td>6747</td>\n",
       "      <td>1976916</td>\n",
       "    </tr>\n",
       "    <tr>\n",
       "      <th>1</th>\n",
       "      <td>2019</td>\n",
       "      <td>May</td>\n",
       "      <td>2980714</td>\n",
       "      <td>1612396</td>\n",
       "      <td>1368318</td>\n",
       "      <td>772105</td>\n",
       "      <td>1198422</td>\n",
       "      <td>1010187</td>\n",
       "      <td>1026587</td>\n",
       "      <td>264336</td>\n",
       "      <td>417020</td>\n",
       "      <td>401166</td>\n",
       "      <td>348437</td>\n",
       "      <td>258115</td>\n",
       "      <td>197421</td>\n",
       "      <td>60741</td>\n",
       "      <td>6889</td>\n",
       "      <td>1954125</td>\n",
       "    </tr>\n",
       "    <tr>\n",
       "      <th>2</th>\n",
       "      <td>2019</td>\n",
       "      <td>Jun</td>\n",
       "      <td>3069902</td>\n",
       "      <td>1644865</td>\n",
       "      <td>1425036</td>\n",
       "      <td>806556</td>\n",
       "      <td>1229570</td>\n",
       "      <td>1033776</td>\n",
       "      <td>1040531</td>\n",
       "      <td>287582</td>\n",
       "      <td>428455</td>\n",
       "      <td>414493</td>\n",
       "      <td>359130</td>\n",
       "      <td>265317</td>\n",
       "      <td>203332</td>\n",
       "      <td>63903</td>\n",
       "      <td>7160</td>\n",
       "      <td>2029372</td>\n",
       "    </tr>\n",
       "    <tr>\n",
       "      <th>3</th>\n",
       "      <td>2019</td>\n",
       "      <td>Jul</td>\n",
       "      <td>3143102</td>\n",
       "      <td>1683158</td>\n",
       "      <td>1459944</td>\n",
       "      <td>852644</td>\n",
       "      <td>1249959</td>\n",
       "      <td>1040498</td>\n",
       "      <td>1099738</td>\n",
       "      <td>294455</td>\n",
       "      <td>432242</td>\n",
       "      <td>416486</td>\n",
       "      <td>354106</td>\n",
       "      <td>267578</td>\n",
       "      <td>206724</td>\n",
       "      <td>64636</td>\n",
       "      <td>7137</td>\n",
       "      <td>2043364</td>\n",
       "    </tr>\n",
       "    <tr>\n",
       "      <th>4</th>\n",
       "      <td>2019</td>\n",
       "      <td>Aug</td>\n",
       "      <td>3145852</td>\n",
       "      <td>1679134</td>\n",
       "      <td>1466719</td>\n",
       "      <td>853085</td>\n",
       "      <td>1248698</td>\n",
       "      <td>1044069</td>\n",
       "      <td>1153922</td>\n",
       "      <td>278809</td>\n",
       "      <td>426541</td>\n",
       "      <td>404292</td>\n",
       "      <td>342825</td>\n",
       "      <td>265643</td>\n",
       "      <td>203251</td>\n",
       "      <td>63552</td>\n",
       "      <td>7018</td>\n",
       "      <td>1991931</td>\n",
       "    </tr>\n",
       "  </tbody>\n",
       "</table>\n",
       "</div>"
      ],
      "text/plain": [
       "   Year Month  UniquePeople     Male   Female  1 to 3   4 to 7  8 to 10  \\\n",
       "0  2019   Apr       3008313  1619505  1388807  793630  1200002  1014681   \n",
       "1  2019   May       2980714  1612396  1368318  772105  1198422  1010187   \n",
       "2  2019   Jun       3069902  1644865  1425036  806556  1229570  1033776   \n",
       "3  2019   Jul       3143102  1683158  1459944  852644  1249959  1040498   \n",
       "4  2019   Aug       3145852  1679134  1466719  853085  1248698  1044069   \n",
       "\n",
       "   1 to 15   16-24   25-34   35-44   45-54   55-64   65-74  75-84   85+  \\\n",
       "0  1031397  278942  421977  403524  349697  257406  198122  60501  6747   \n",
       "1  1026587  264336  417020  401166  348437  258115  197421  60741  6889   \n",
       "2  1040531  287582  428455  414493  359130  265317  203332  63903  7160   \n",
       "3  1099738  294455  432242  416486  354106  267578  206724  64636  7137   \n",
       "4  1153922  278809  426541  404292  342825  265643  203251  63552  7018   \n",
       "\n",
       "       16+  \n",
       "0  1976916  \n",
       "1  1954125  \n",
       "2  2029372  \n",
       "3  2043364  \n",
       "4  1991931  "
      ]
     },
     "execution_count": 75,
     "metadata": {},
     "output_type": "execute_result"
    }
   ],
   "source": [
    "regression.head()"
   ]
  },
  {
   "cell_type": "code",
   "execution_count": 76,
   "id": "6b58f400",
   "metadata": {},
   "outputs": [],
   "source": [
    "# Define the dependent variable.\n",
    "y = regression['UniquePeople']  \n",
    "\n",
    "# Define the independent variable.\n",
    "#X = regression[['1 to 15', '16-24', '25-34', '35-']]\n",
    "X = regression[['1 to 15', '16+']]"
   ]
  },
  {
   "cell_type": "code",
   "execution_count": 77,
   "id": "e95c6717",
   "metadata": {},
   "outputs": [
    {
     "data": {
      "text/html": [
       "<style>#sk-container-id-11 {color: black;background-color: white;}#sk-container-id-11 pre{padding: 0;}#sk-container-id-11 div.sk-toggleable {background-color: white;}#sk-container-id-11 label.sk-toggleable__label {cursor: pointer;display: block;width: 100%;margin-bottom: 0;padding: 0.3em;box-sizing: border-box;text-align: center;}#sk-container-id-11 label.sk-toggleable__label-arrow:before {content: \"▸\";float: left;margin-right: 0.25em;color: #696969;}#sk-container-id-11 label.sk-toggleable__label-arrow:hover:before {color: black;}#sk-container-id-11 div.sk-estimator:hover label.sk-toggleable__label-arrow:before {color: black;}#sk-container-id-11 div.sk-toggleable__content {max-height: 0;max-width: 0;overflow: hidden;text-align: left;background-color: #f0f8ff;}#sk-container-id-11 div.sk-toggleable__content pre {margin: 0.2em;color: black;border-radius: 0.25em;background-color: #f0f8ff;}#sk-container-id-11 input.sk-toggleable__control:checked~div.sk-toggleable__content {max-height: 200px;max-width: 100%;overflow: auto;}#sk-container-id-11 input.sk-toggleable__control:checked~label.sk-toggleable__label-arrow:before {content: \"▾\";}#sk-container-id-11 div.sk-estimator input.sk-toggleable__control:checked~label.sk-toggleable__label {background-color: #d4ebff;}#sk-container-id-11 div.sk-label input.sk-toggleable__control:checked~label.sk-toggleable__label {background-color: #d4ebff;}#sk-container-id-11 input.sk-hidden--visually {border: 0;clip: rect(1px 1px 1px 1px);clip: rect(1px, 1px, 1px, 1px);height: 1px;margin: -1px;overflow: hidden;padding: 0;position: absolute;width: 1px;}#sk-container-id-11 div.sk-estimator {font-family: monospace;background-color: #f0f8ff;border: 1px dotted black;border-radius: 0.25em;box-sizing: border-box;margin-bottom: 0.5em;}#sk-container-id-11 div.sk-estimator:hover {background-color: #d4ebff;}#sk-container-id-11 div.sk-parallel-item::after {content: \"\";width: 100%;border-bottom: 1px solid gray;flex-grow: 1;}#sk-container-id-11 div.sk-label:hover label.sk-toggleable__label {background-color: #d4ebff;}#sk-container-id-11 div.sk-serial::before {content: \"\";position: absolute;border-left: 1px solid gray;box-sizing: border-box;top: 0;bottom: 0;left: 50%;z-index: 0;}#sk-container-id-11 div.sk-serial {display: flex;flex-direction: column;align-items: center;background-color: white;padding-right: 0.2em;padding-left: 0.2em;position: relative;}#sk-container-id-11 div.sk-item {position: relative;z-index: 1;}#sk-container-id-11 div.sk-parallel {display: flex;align-items: stretch;justify-content: center;background-color: white;position: relative;}#sk-container-id-11 div.sk-item::before, #sk-container-id-11 div.sk-parallel-item::before {content: \"\";position: absolute;border-left: 1px solid gray;box-sizing: border-box;top: 0;bottom: 0;left: 50%;z-index: -1;}#sk-container-id-11 div.sk-parallel-item {display: flex;flex-direction: column;z-index: 1;position: relative;background-color: white;}#sk-container-id-11 div.sk-parallel-item:first-child::after {align-self: flex-end;width: 50%;}#sk-container-id-11 div.sk-parallel-item:last-child::after {align-self: flex-start;width: 50%;}#sk-container-id-11 div.sk-parallel-item:only-child::after {width: 0;}#sk-container-id-11 div.sk-dashed-wrapped {border: 1px dashed gray;margin: 0 0.4em 0.5em 0.4em;box-sizing: border-box;padding-bottom: 0.4em;background-color: white;}#sk-container-id-11 div.sk-label label {font-family: monospace;font-weight: bold;display: inline-block;line-height: 1.2em;}#sk-container-id-11 div.sk-label-container {text-align: center;}#sk-container-id-11 div.sk-container {/* jupyter's `normalize.less` sets `[hidden] { display: none; }` but bootstrap.min.css set `[hidden] { display: none !important; }` so we also need the `!important` here to be able to override the default hidden behavior on the sphinx rendered scikit-learn.org. See: https://github.com/scikit-learn/scikit-learn/issues/21755 */display: inline-block !important;position: relative;}#sk-container-id-11 div.sk-text-repr-fallback {display: none;}</style><div id=\"sk-container-id-11\" class=\"sk-top-container\"><div class=\"sk-text-repr-fallback\"><pre>LinearRegression()</pre><b>In a Jupyter environment, please rerun this cell to show the HTML representation or trust the notebook. <br />On GitHub, the HTML representation is unable to render, please try loading this page with nbviewer.org.</b></div><div class=\"sk-container\" hidden><div class=\"sk-item\"><div class=\"sk-estimator sk-toggleable\"><input class=\"sk-toggleable__control sk-hidden--visually\" id=\"sk-estimator-id-11\" type=\"checkbox\" checked><label for=\"sk-estimator-id-11\" class=\"sk-toggleable__label sk-toggleable__label-arrow\">LinearRegression</label><div class=\"sk-toggleable__content\"><pre>LinearRegression()</pre></div></div></div></div></div>"
      ],
      "text/plain": [
       "LinearRegression()"
      ]
     },
     "execution_count": 77,
     "metadata": {},
     "output_type": "execute_result"
    }
   ],
   "source": [
    "# Fit the regression model.\n",
    "mlr = linear_model.LinearRegression()\n",
    "mlr.fit(X, y)"
   ]
  },
  {
   "cell_type": "code",
   "execution_count": 78,
   "id": "23cffed1",
   "metadata": {},
   "outputs": [
    {
     "data": {
      "text/plain": [
       "array([3008313.18259178, 2980712.16857603, 3069903.21621499,\n",
       "       3143102.18518983, 3145853.10774161, 2971487.13319211,\n",
       "       3057012.10534014, 2870337.03405934, 2406445.85870418,\n",
       "       3133006.19153296, 3227941.15280748, 2275265.8843914 ,\n",
       "       1107033.61669883, 1642209.81144643, 1754562.84087288,\n",
       "       1937281.89345456, 2147443.94692667, 2083270.91315438,\n",
       "       2163864.93889953, 2090555.87975198, 1715449.71774299,\n",
       "       2174446.96964981, 2411859.08964881, 2423288.89901295,\n",
       "       2230442.94364689, 2270861.97452159, 2267343.96242291,\n",
       "       2367869.98899558, 2543482.97697937, 2251083.92011198,\n",
       "       2343175.93961128, 2232574.90128989, 1862159.71797695,\n",
       "       2345346.97898682, 2388813.00307275, 2461770.00320438,\n",
       "       2826078.99561078, 3161318.98028856, 2228733.97567859])"
      ]
     },
     "execution_count": 78,
     "metadata": {},
     "output_type": "execute_result"
    }
   ],
   "source": [
    "# Call the predictions for X (array).\n",
    "mlr.predict(X)"
   ]
  },
  {
   "cell_type": "code",
   "execution_count": 79,
   "id": "fa40ec3d",
   "metadata": {},
   "outputs": [
    {
     "name": "stdout",
     "output_type": "stream",
     "text": [
      "R-squared:  0.9999999999957103\n",
      "Intercept:  -0.6004781220108271\n",
      "Coefficients:\n"
     ]
    },
    {
     "data": {
      "text/plain": [
       "[('1 to 15', 0.9999992955205501), ('16+', 1.0000007636479729)]"
      ]
     },
     "execution_count": 79,
     "metadata": {},
     "output_type": "execute_result"
    }
   ],
   "source": [
    "# Print the R-squared value.\n",
    "print(\"R-squared: \", mlr.score(X,y))  \n",
    "\n",
    "# Print the intercept.\n",
    "print(\"Intercept: \", mlr.intercept_) \n",
    "\n",
    "# Print the coefficients.\n",
    "print(\"Coefficients:\")  \n",
    "\n",
    "# Map a similar index of multiple containers (to be used as a single entity).\n",
    "list(zip(X, mlr.coef_))  "
   ]
  },
  {
   "cell_type": "code",
   "execution_count": 80,
   "id": "0787065e",
   "metadata": {},
   "outputs": [],
   "source": [
    "# Split the data in 'train' (80%) and 'test' (20%) sets.\n",
    "X_train, X_test, Y_train, Y_test = sklearn.model_selection.train_test_split(X, y,\n",
    "                                                                            test_size = 0.20,\n",
    "                                                                            random_state = 42)"
   ]
  },
  {
   "cell_type": "code",
   "execution_count": 81,
   "id": "c4ec578e",
   "metadata": {},
   "outputs": [
    {
     "name": "stdout",
     "output_type": "stream",
     "text": [
      "                            OLS Regression Results                            \n",
      "==============================================================================\n",
      "Dep. Variable:           UniquePeople   R-squared:                       1.000\n",
      "Model:                            OLS   Adj. R-squared:                  1.000\n",
      "Method:                 Least Squares   F-statistic:                 3.681e+12\n",
      "Date:                Fri, 25 Aug 2023   Prob (F-statistic):          1.33e-160\n",
      "Time:                        09:31:12   Log-Likelihood:                -43.000\n",
      "No. Observations:                  31   AIC:                             92.00\n",
      "Df Residuals:                      28   BIC:                             96.30\n",
      "Df Model:                           2                                         \n",
      "Covariance Type:            nonrobust                                         \n",
      "==============================================================================\n",
      "                 coef    std err          t      P>|t|      [0.025      0.975]\n",
      "------------------------------------------------------------------------------\n",
      "const         -0.8429      0.922     -0.915      0.368      -2.731       1.045\n",
      "1 to 15        1.0000   2.83e-06   3.54e+05      0.000       1.000       1.000\n",
      "16+            1.0000   1.51e-06   6.63e+05      0.000       1.000       1.000\n",
      "==============================================================================\n",
      "Omnibus:                        1.690   Durbin-Watson:                   1.796\n",
      "Prob(Omnibus):                  0.429   Jarque-Bera (JB):                1.525\n",
      "Skew:                          -0.503   Prob(JB):                        0.467\n",
      "Kurtosis:                       2.588   Cond. No.                     9.11e+06\n",
      "==============================================================================\n",
      "\n",
      "Notes:\n",
      "[1] Standard Errors assume that the covariance matrix of the errors is correctly specified.\n",
      "[2] The condition number is large, 9.11e+06. This might indicate that there are\n",
      "strong multicollinearity or other numerical problems.\n"
     ]
    }
   ],
   "source": [
    "# Training the model using the 'statsmodel' OLS library.\n",
    "# Fit the model with the added constant.\n",
    "model = sm.OLS(Y_train, sm.add_constant(X_train)).fit()\n",
    "\n",
    "# Set the predicted response vector.\n",
    "Y_pred = model.predict(sm.add_constant(X_test)) \n",
    "\n",
    "# Call a summary of the model.\n",
    "print_model = model.summary()\n",
    "\n",
    "# Print the summary.\n",
    "print(print_model)  "
   ]
  },
  {
   "cell_type": "code",
   "execution_count": 82,
   "id": "3674c7d0",
   "metadata": {},
   "outputs": [
    {
     "name": "stdout",
     "output_type": "stream",
     "text": [
      "0.999999999996139\n"
     ]
    }
   ],
   "source": [
    "# printing the accuracy score\n",
    "print(mlr.score(X_train, Y_train))"
   ]
  },
  {
   "cell_type": "code",
   "execution_count": 83,
   "id": "4d7a616a",
   "metadata": {},
   "outputs": [
    {
     "data": {
      "text/html": [
       "<style>#sk-container-id-12 {color: black;background-color: white;}#sk-container-id-12 pre{padding: 0;}#sk-container-id-12 div.sk-toggleable {background-color: white;}#sk-container-id-12 label.sk-toggleable__label {cursor: pointer;display: block;width: 100%;margin-bottom: 0;padding: 0.3em;box-sizing: border-box;text-align: center;}#sk-container-id-12 label.sk-toggleable__label-arrow:before {content: \"▸\";float: left;margin-right: 0.25em;color: #696969;}#sk-container-id-12 label.sk-toggleable__label-arrow:hover:before {color: black;}#sk-container-id-12 div.sk-estimator:hover label.sk-toggleable__label-arrow:before {color: black;}#sk-container-id-12 div.sk-toggleable__content {max-height: 0;max-width: 0;overflow: hidden;text-align: left;background-color: #f0f8ff;}#sk-container-id-12 div.sk-toggleable__content pre {margin: 0.2em;color: black;border-radius: 0.25em;background-color: #f0f8ff;}#sk-container-id-12 input.sk-toggleable__control:checked~div.sk-toggleable__content {max-height: 200px;max-width: 100%;overflow: auto;}#sk-container-id-12 input.sk-toggleable__control:checked~label.sk-toggleable__label-arrow:before {content: \"▾\";}#sk-container-id-12 div.sk-estimator input.sk-toggleable__control:checked~label.sk-toggleable__label {background-color: #d4ebff;}#sk-container-id-12 div.sk-label input.sk-toggleable__control:checked~label.sk-toggleable__label {background-color: #d4ebff;}#sk-container-id-12 input.sk-hidden--visually {border: 0;clip: rect(1px 1px 1px 1px);clip: rect(1px, 1px, 1px, 1px);height: 1px;margin: -1px;overflow: hidden;padding: 0;position: absolute;width: 1px;}#sk-container-id-12 div.sk-estimator {font-family: monospace;background-color: #f0f8ff;border: 1px dotted black;border-radius: 0.25em;box-sizing: border-box;margin-bottom: 0.5em;}#sk-container-id-12 div.sk-estimator:hover {background-color: #d4ebff;}#sk-container-id-12 div.sk-parallel-item::after {content: \"\";width: 100%;border-bottom: 1px solid gray;flex-grow: 1;}#sk-container-id-12 div.sk-label:hover label.sk-toggleable__label {background-color: #d4ebff;}#sk-container-id-12 div.sk-serial::before {content: \"\";position: absolute;border-left: 1px solid gray;box-sizing: border-box;top: 0;bottom: 0;left: 50%;z-index: 0;}#sk-container-id-12 div.sk-serial {display: flex;flex-direction: column;align-items: center;background-color: white;padding-right: 0.2em;padding-left: 0.2em;position: relative;}#sk-container-id-12 div.sk-item {position: relative;z-index: 1;}#sk-container-id-12 div.sk-parallel {display: flex;align-items: stretch;justify-content: center;background-color: white;position: relative;}#sk-container-id-12 div.sk-item::before, #sk-container-id-12 div.sk-parallel-item::before {content: \"\";position: absolute;border-left: 1px solid gray;box-sizing: border-box;top: 0;bottom: 0;left: 50%;z-index: -1;}#sk-container-id-12 div.sk-parallel-item {display: flex;flex-direction: column;z-index: 1;position: relative;background-color: white;}#sk-container-id-12 div.sk-parallel-item:first-child::after {align-self: flex-end;width: 50%;}#sk-container-id-12 div.sk-parallel-item:last-child::after {align-self: flex-start;width: 50%;}#sk-container-id-12 div.sk-parallel-item:only-child::after {width: 0;}#sk-container-id-12 div.sk-dashed-wrapped {border: 1px dashed gray;margin: 0 0.4em 0.5em 0.4em;box-sizing: border-box;padding-bottom: 0.4em;background-color: white;}#sk-container-id-12 div.sk-label label {font-family: monospace;font-weight: bold;display: inline-block;line-height: 1.2em;}#sk-container-id-12 div.sk-label-container {text-align: center;}#sk-container-id-12 div.sk-container {/* jupyter's `normalize.less` sets `[hidden] { display: none; }` but bootstrap.min.css set `[hidden] { display: none !important; }` so we also need the `!important` here to be able to override the default hidden behavior on the sphinx rendered scikit-learn.org. See: https://github.com/scikit-learn/scikit-learn/issues/21755 */display: inline-block !important;position: relative;}#sk-container-id-12 div.sk-text-repr-fallback {display: none;}</style><div id=\"sk-container-id-12\" class=\"sk-top-container\"><div class=\"sk-text-repr-fallback\"><pre>LinearRegression()</pre><b>In a Jupyter environment, please rerun this cell to show the HTML representation or trust the notebook. <br />On GitHub, the HTML representation is unable to render, please try loading this page with nbviewer.org.</b></div><div class=\"sk-container\" hidden><div class=\"sk-item\"><div class=\"sk-estimator sk-toggleable\"><input class=\"sk-toggleable__control sk-hidden--visually\" id=\"sk-estimator-id-12\" type=\"checkbox\" checked><label for=\"sk-estimator-id-12\" class=\"sk-toggleable__label sk-toggleable__label-arrow\">LinearRegression</label><div class=\"sk-toggleable__content\"><pre>LinearRegression()</pre></div></div></div></div></div>"
      ],
      "text/plain": [
       "LinearRegression()"
      ]
     },
     "execution_count": 83,
     "metadata": {},
     "output_type": "execute_result"
    }
   ],
   "source": [
    "# Specify the model.\n",
    "mlr = LinearRegression()  \n",
    "\n",
    "# Fit the model. We can only fit the model with the training data set.\n",
    "mlr.fit(X_train, Y_train)  \n"
   ]
  },
  {
   "cell_type": "code",
   "execution_count": 84,
   "id": "51b84c26",
   "metadata": {},
   "outputs": [
    {
     "name": "stdout",
     "output_type": "stream",
     "text": [
      "Prediction for test set: [2345346.95988829 2826079.20078998 3145853.28548927 1642209.71458612\n",
      " 2343175.98817438 2267343.93116401 3057012.24046848 2367869.96427627]\n"
     ]
    }
   ],
   "source": [
    "# Call the predictions for X in the train set.\n",
    "y_pred_mlr = mlr.predict(X_test)  \n",
    "\n",
    "# Print the predictions.\n",
    "print(\"Prediction for test set: {}\".format(y_pred_mlr))"
   ]
  },
  {
   "cell_type": "code",
   "execution_count": 85,
   "id": "61d8f9b2",
   "metadata": {},
   "outputs": [
    {
     "name": "stdout",
     "output_type": "stream",
     "text": [
      "0.9999999999930582\n"
     ]
    }
   ],
   "source": [
    "# printing the accuracy score\n",
    "print(mlr.score(X_test, Y_test))"
   ]
  },
  {
   "cell_type": "code",
   "execution_count": 86,
   "id": "62a88ce1",
   "metadata": {},
   "outputs": [
    {
     "name": "stdout",
     "output_type": "stream",
     "text": [
      "   VIF Factor features\n",
      "0        25.3    const\n",
      "1         7.4  1 to 15\n",
      "2         7.4      16+\n"
     ]
    }
   ],
   "source": [
    "# Check multicollinearity.\n",
    "x_temp = sm.add_constant(X_train)\n",
    "\n",
    "# Create an empty DataFrame. \n",
    "vif = pd.DataFrame()\n",
    "\n",
    "# Calculate the VIF for each value.\n",
    "vif['VIF Factor'] = [variance_inflation_factor(x_temp.values,\n",
    "                                               i) for i in range(x_temp.values.shape[1])]\n",
    "\n",
    "# Create the feature columns.\n",
    "vif['features'] = x_temp.columns\n",
    "\n",
    "# Print the values to one decimal points.\n",
    "print(vif.round(1))"
   ]
  },
  {
   "cell_type": "code",
   "execution_count": 87,
   "id": "645de3f0",
   "metadata": {},
   "outputs": [],
   "source": [
    "# Determine heteroscedasticity.\n",
    "model = sms.het_breuschpagan(model.resid, model.model.exog) "
   ]
  },
  {
   "cell_type": "code",
   "execution_count": 88,
   "id": "23b8c0e2",
   "metadata": {},
   "outputs": [
    {
     "name": "stdout",
     "output_type": "stream",
     "text": [
      "{'LM stat': 0.5411363785914075, 'LM Test p-value': 0.7629458734806415, 'F-stat': 0.24872593391681272, 'F-test p-value': 0.7814982961252946}\n"
     ]
    }
   ],
   "source": [
    "terms = ['LM stat', 'LM Test p-value', 'F-stat', 'F-test p-value']\n",
    "print(dict(zip(terms, model)))"
   ]
  },
  {
   "cell_type": "code",
   "execution_count": 89,
   "id": "55f78710",
   "metadata": {},
   "outputs": [
    {
     "name": "stdout",
     "output_type": "stream",
     "text": [
      "Mean Absolute Error (Final): 0.9580088075308595\n",
      "Mean Square Error (Final): 1.4661163798993941\n"
     ]
    }
   ],
   "source": [
    "# Call the metrics.mean_absolute_error function.  \n",
    "print('Mean Absolute Error (Final):', metrics.mean_absolute_error(Y_test, Y_pred))  \n",
    "\n",
    "# Call the metrics.mean_squared_error function.\n",
    "print('Mean Square Error (Final):', metrics.mean_squared_error(Y_test, Y_pred))  "
   ]
  },
  {
   "cell_type": "code",
   "execution_count": 90,
   "id": "afa54ec4",
   "metadata": {},
   "outputs": [
    {
     "name": "stdout",
     "output_type": "stream",
     "text": [
      "                            OLS Regression Results                            \n",
      "==============================================================================\n",
      "Dep. Variable:           UniquePeople   R-squared:                       1.000\n",
      "Model:                            OLS   Adj. R-squared:                  1.000\n",
      "Method:                 Least Squares   F-statistic:                 4.196e+12\n",
      "Date:                Fri, 25 Aug 2023   Prob (F-statistic):          2.42e-205\n",
      "Time:                        09:31:12   Log-Likelihood:                -55.963\n",
      "No. Observations:                  39   AIC:                             117.9\n",
      "Df Residuals:                      36   BIC:                             122.9\n",
      "Df Model:                           2                                         \n",
      "Covariance Type:            nonrobust                                         \n",
      "==============================================================================\n",
      "                 coef    std err          t      P>|t|      [0.025      0.975]\n",
      "------------------------------------------------------------------------------\n",
      "const         -0.6005      0.858     -0.700      0.488      -2.340       1.139\n",
      "1 to 15        1.0000   2.75e-06   3.64e+05      0.000       1.000       1.000\n",
      "16+            1.0000   1.52e-06   6.57e+05      0.000       1.000       1.000\n",
      "==============================================================================\n",
      "Omnibus:                        1.315   Durbin-Watson:                   1.878\n",
      "Prob(Omnibus):                  0.518   Jarque-Bera (JB):                1.283\n",
      "Skew:                          -0.343   Prob(JB):                        0.527\n",
      "Kurtosis:                       2.435   Cond. No.                     9.22e+06\n",
      "==============================================================================\n",
      "\n",
      "Notes:\n",
      "[1] Standard Errors assume that the covariance matrix of the errors is correctly specified.\n",
      "[2] The condition number is large, 9.22e+06. This might indicate that there are\n",
      "strong multicollinearity or other numerical problems.\n"
     ]
    }
   ],
   "source": [
    "# Running the model with the full sample dataset\n",
    "\n",
    "# Fit the model with the added constant.\n",
    "model = sm.OLS(y, sm.add_constant(X)).fit()\n",
    "\n",
    "# Set the predicted response vector.\n",
    "Y_pred = model.predict(sm.add_constant(X)) \n",
    "\n",
    "# Call a summary of the model.\n",
    "print_model = model.summary()\n",
    "\n",
    "# Print the summary.\n",
    "print(print_model)  "
   ]
  },
  {
   "cell_type": "markdown",
   "id": "806b560e",
   "metadata": {},
   "source": [
    "## Second regression predicting throughput from activities"
   ]
  },
  {
   "cell_type": "code",
   "execution_count": 139,
   "id": "d1ec9eb3",
   "metadata": {},
   "outputs": [
    {
     "data": {
      "text/html": [
       "<div>\n",
       "<style scoped>\n",
       "    .dataframe tbody tr th:only-of-type {\n",
       "        vertical-align: middle;\n",
       "    }\n",
       "\n",
       "    .dataframe tbody tr th {\n",
       "        vertical-align: top;\n",
       "    }\n",
       "\n",
       "    .dataframe thead th {\n",
       "        text-align: right;\n",
       "    }\n",
       "</style>\n",
       "<table border=\"1\" class=\"dataframe\">\n",
       "  <thead>\n",
       "    <tr style=\"text-align: right;\">\n",
       "      <th></th>\n",
       "      <th>Year</th>\n",
       "      <th>Month</th>\n",
       "      <th>TotalThroughput</th>\n",
       "      <th>Fitness (Gym) activities</th>\n",
       "      <th>Group Workout</th>\n",
       "      <th>Swimming - lessons</th>\n",
       "      <th>Swimming activities</th>\n",
       "      <th>Sports Hall activities</th>\n",
       "      <th>Outdoor activities</th>\n",
       "      <th>Other</th>\n",
       "    </tr>\n",
       "  </thead>\n",
       "  <tbody>\n",
       "    <tr>\n",
       "      <th>0</th>\n",
       "      <td>2019</td>\n",
       "      <td>Apr</td>\n",
       "      <td>12799130</td>\n",
       "      <td>3501118</td>\n",
       "      <td>1376630</td>\n",
       "      <td>1945830</td>\n",
       "      <td>2463579</td>\n",
       "      <td>550293</td>\n",
       "      <td>278342</td>\n",
       "      <td>2683338</td>\n",
       "    </tr>\n",
       "    <tr>\n",
       "      <th>1</th>\n",
       "      <td>2019</td>\n",
       "      <td>May</td>\n",
       "      <td>12914245</td>\n",
       "      <td>3532233</td>\n",
       "      <td>1355163</td>\n",
       "      <td>2094069</td>\n",
       "      <td>2386767</td>\n",
       "      <td>532010</td>\n",
       "      <td>268164</td>\n",
       "      <td>2745839</td>\n",
       "    </tr>\n",
       "    <tr>\n",
       "      <th>2</th>\n",
       "      <td>2019</td>\n",
       "      <td>Jun</td>\n",
       "      <td>12950299</td>\n",
       "      <td>3370708</td>\n",
       "      <td>1276326</td>\n",
       "      <td>2048298</td>\n",
       "      <td>2196094</td>\n",
       "      <td>526491</td>\n",
       "      <td>250870</td>\n",
       "      <td>3281512</td>\n",
       "    </tr>\n",
       "    <tr>\n",
       "      <th>3</th>\n",
       "      <td>2019</td>\n",
       "      <td>Jul</td>\n",
       "      <td>13546090</td>\n",
       "      <td>3633663</td>\n",
       "      <td>1351251</td>\n",
       "      <td>2102386</td>\n",
       "      <td>2783498</td>\n",
       "      <td>542687</td>\n",
       "      <td>289981</td>\n",
       "      <td>2842624</td>\n",
       "    </tr>\n",
       "    <tr>\n",
       "      <th>4</th>\n",
       "      <td>2019</td>\n",
       "      <td>Aug</td>\n",
       "      <td>13065063</td>\n",
       "      <td>3275685</td>\n",
       "      <td>1153948</td>\n",
       "      <td>1957080</td>\n",
       "      <td>3085344</td>\n",
       "      <td>462016</td>\n",
       "      <td>267405</td>\n",
       "      <td>2863585</td>\n",
       "    </tr>\n",
       "  </tbody>\n",
       "</table>\n",
       "</div>"
      ],
      "text/plain": [
       "   Year Month  TotalThroughput  Fitness (Gym) activities  Group Workout  \\\n",
       "0  2019   Apr         12799130                   3501118        1376630   \n",
       "1  2019   May         12914245                   3532233        1355163   \n",
       "2  2019   Jun         12950299                   3370708        1276326   \n",
       "3  2019   Jul         13546090                   3633663        1351251   \n",
       "4  2019   Aug         13065063                   3275685        1153948   \n",
       "\n",
       "   Swimming - lessons  Swimming activities  Sports Hall activities  \\\n",
       "0             1945830              2463579                  550293   \n",
       "1             2094069              2386767                  532010   \n",
       "2             2048298              2196094                  526491   \n",
       "3             2102386              2783498                  542687   \n",
       "4             1957080              3085344                  462016   \n",
       "\n",
       "   Outdoor activities    Other  \n",
       "0              278342  2683338  \n",
       "1              268164  2745839  \n",
       "2              250870  3281512  \n",
       "3              289981  2842624  \n",
       "4              267405  2863585  "
      ]
     },
     "execution_count": 139,
     "metadata": {},
     "output_type": "execute_result"
    }
   ],
   "source": [
    "regression2.head()"
   ]
  },
  {
   "cell_type": "code",
   "execution_count": 140,
   "id": "a42d588f",
   "metadata": {},
   "outputs": [],
   "source": [
    "# Define the dependent variable.\n",
    "y = regression2['TotalThroughput']  \n",
    "\n",
    "# Define the independent variable.\n",
    "#X = regression[['1 to 15', '16-24', '25-34', '35-']]\n",
    "X = regression2[['Fitness (Gym) activities', 'Group Workout', 'Swimming - lessons', 'Swimming activities'\\\n",
    "               ]]"
   ]
  },
  {
   "cell_type": "code",
   "execution_count": 141,
   "id": "5a453daa",
   "metadata": {},
   "outputs": [
    {
     "data": {
      "text/html": [
       "<style>#sk-container-id-19 {color: black;background-color: white;}#sk-container-id-19 pre{padding: 0;}#sk-container-id-19 div.sk-toggleable {background-color: white;}#sk-container-id-19 label.sk-toggleable__label {cursor: pointer;display: block;width: 100%;margin-bottom: 0;padding: 0.3em;box-sizing: border-box;text-align: center;}#sk-container-id-19 label.sk-toggleable__label-arrow:before {content: \"▸\";float: left;margin-right: 0.25em;color: #696969;}#sk-container-id-19 label.sk-toggleable__label-arrow:hover:before {color: black;}#sk-container-id-19 div.sk-estimator:hover label.sk-toggleable__label-arrow:before {color: black;}#sk-container-id-19 div.sk-toggleable__content {max-height: 0;max-width: 0;overflow: hidden;text-align: left;background-color: #f0f8ff;}#sk-container-id-19 div.sk-toggleable__content pre {margin: 0.2em;color: black;border-radius: 0.25em;background-color: #f0f8ff;}#sk-container-id-19 input.sk-toggleable__control:checked~div.sk-toggleable__content {max-height: 200px;max-width: 100%;overflow: auto;}#sk-container-id-19 input.sk-toggleable__control:checked~label.sk-toggleable__label-arrow:before {content: \"▾\";}#sk-container-id-19 div.sk-estimator input.sk-toggleable__control:checked~label.sk-toggleable__label {background-color: #d4ebff;}#sk-container-id-19 div.sk-label input.sk-toggleable__control:checked~label.sk-toggleable__label {background-color: #d4ebff;}#sk-container-id-19 input.sk-hidden--visually {border: 0;clip: rect(1px 1px 1px 1px);clip: rect(1px, 1px, 1px, 1px);height: 1px;margin: -1px;overflow: hidden;padding: 0;position: absolute;width: 1px;}#sk-container-id-19 div.sk-estimator {font-family: monospace;background-color: #f0f8ff;border: 1px dotted black;border-radius: 0.25em;box-sizing: border-box;margin-bottom: 0.5em;}#sk-container-id-19 div.sk-estimator:hover {background-color: #d4ebff;}#sk-container-id-19 div.sk-parallel-item::after {content: \"\";width: 100%;border-bottom: 1px solid gray;flex-grow: 1;}#sk-container-id-19 div.sk-label:hover label.sk-toggleable__label {background-color: #d4ebff;}#sk-container-id-19 div.sk-serial::before {content: \"\";position: absolute;border-left: 1px solid gray;box-sizing: border-box;top: 0;bottom: 0;left: 50%;z-index: 0;}#sk-container-id-19 div.sk-serial {display: flex;flex-direction: column;align-items: center;background-color: white;padding-right: 0.2em;padding-left: 0.2em;position: relative;}#sk-container-id-19 div.sk-item {position: relative;z-index: 1;}#sk-container-id-19 div.sk-parallel {display: flex;align-items: stretch;justify-content: center;background-color: white;position: relative;}#sk-container-id-19 div.sk-item::before, #sk-container-id-19 div.sk-parallel-item::before {content: \"\";position: absolute;border-left: 1px solid gray;box-sizing: border-box;top: 0;bottom: 0;left: 50%;z-index: -1;}#sk-container-id-19 div.sk-parallel-item {display: flex;flex-direction: column;z-index: 1;position: relative;background-color: white;}#sk-container-id-19 div.sk-parallel-item:first-child::after {align-self: flex-end;width: 50%;}#sk-container-id-19 div.sk-parallel-item:last-child::after {align-self: flex-start;width: 50%;}#sk-container-id-19 div.sk-parallel-item:only-child::after {width: 0;}#sk-container-id-19 div.sk-dashed-wrapped {border: 1px dashed gray;margin: 0 0.4em 0.5em 0.4em;box-sizing: border-box;padding-bottom: 0.4em;background-color: white;}#sk-container-id-19 div.sk-label label {font-family: monospace;font-weight: bold;display: inline-block;line-height: 1.2em;}#sk-container-id-19 div.sk-label-container {text-align: center;}#sk-container-id-19 div.sk-container {/* jupyter's `normalize.less` sets `[hidden] { display: none; }` but bootstrap.min.css set `[hidden] { display: none !important; }` so we also need the `!important` here to be able to override the default hidden behavior on the sphinx rendered scikit-learn.org. See: https://github.com/scikit-learn/scikit-learn/issues/21755 */display: inline-block !important;position: relative;}#sk-container-id-19 div.sk-text-repr-fallback {display: none;}</style><div id=\"sk-container-id-19\" class=\"sk-top-container\"><div class=\"sk-text-repr-fallback\"><pre>LinearRegression()</pre><b>In a Jupyter environment, please rerun this cell to show the HTML representation or trust the notebook. <br />On GitHub, the HTML representation is unable to render, please try loading this page with nbviewer.org.</b></div><div class=\"sk-container\" hidden><div class=\"sk-item\"><div class=\"sk-estimator sk-toggleable\"><input class=\"sk-toggleable__control sk-hidden--visually\" id=\"sk-estimator-id-19\" type=\"checkbox\" checked><label for=\"sk-estimator-id-19\" class=\"sk-toggleable__label sk-toggleable__label-arrow\">LinearRegression</label><div class=\"sk-toggleable__content\"><pre>LinearRegression()</pre></div></div></div></div></div>"
      ],
      "text/plain": [
       "LinearRegression()"
      ]
     },
     "execution_count": 141,
     "metadata": {},
     "output_type": "execute_result"
    }
   ],
   "source": [
    "# Fit the regression model.\n",
    "mlr = linear_model.LinearRegression()\n",
    "mlr.fit(X, y)"
   ]
  },
  {
   "cell_type": "code",
   "execution_count": 142,
   "id": "2a455539",
   "metadata": {},
   "outputs": [
    {
     "data": {
      "text/plain": [
       "array([12940322.94509595, 13041921.39448692, 12403539.1059168 ,\n",
       "       13415691.0481192 , 12367578.53120417, 12394973.42345864,\n",
       "       13118421.01197088, 12318820.16390732,  9273107.72991261,\n",
       "       13503123.86839854, 13237928.10274652,  8273256.214404  ,\n",
       "        4091865.20489929,  8322184.81825861,  9583195.77593003,\n",
       "        9763893.70684494,  9771849.6109332 ,  9902504.12622589,\n",
       "       10069550.70059857, 10125657.67371527,  7441722.11179478,\n",
       "       11065681.54431746, 10961814.47770533, 11955991.24720685,\n",
       "       10535016.68638351, 11557598.40107587, 11130635.48434951,\n",
       "       11063487.06763564, 11434756.21032824, 10531362.54686689,\n",
       "       10893041.0016316 , 10741326.10299961,  7676379.59581491,\n",
       "       11294423.06434759, 10731979.3419829 , 11572614.69262896,\n",
       "       10585987.40507233, 11348905.49017836, 11190869.37065225])"
      ]
     },
     "execution_count": 142,
     "metadata": {},
     "output_type": "execute_result"
    }
   ],
   "source": [
    "# Call the predictions for X (array).\n",
    "mlr.predict(X)"
   ]
  },
  {
   "cell_type": "code",
   "execution_count": 143,
   "id": "da6d6be8",
   "metadata": {},
   "outputs": [
    {
     "name": "stdout",
     "output_type": "stream",
     "text": [
      "R-squared:  0.9813295293002129\n",
      "Intercept:  171413.73028409295\n",
      "Coefficients:\n"
     ]
    },
    {
     "data": {
      "text/plain": [
       "[('Fitness (Gym) activities', 0.9657428027672545),\n",
       " ('Group Workout', 3.624313161630724),\n",
       " ('Swimming - lessons', 1.3713689468758299),\n",
       " ('Swimming activities', 0.7022062775652319)]"
      ]
     },
     "execution_count": 143,
     "metadata": {},
     "output_type": "execute_result"
    }
   ],
   "source": [
    "# Print the R-squared value.\n",
    "print(\"R-squared: \", mlr.score(X,y))  \n",
    "\n",
    "# Print the intercept.\n",
    "print(\"Intercept: \", mlr.intercept_) \n",
    "\n",
    "# Print the coefficients.\n",
    "print(\"Coefficients:\")  \n",
    "\n",
    "# Map a similar index of multiple containers (to be used as a single entity).\n",
    "list(zip(X, mlr.coef_))  "
   ]
  },
  {
   "cell_type": "code",
   "execution_count": 144,
   "id": "1ec4614e",
   "metadata": {},
   "outputs": [],
   "source": [
    "# Split the data in 'train' (80%) and 'test' (20%) sets.\n",
    "X_train, X_test, Y_train, Y_test = sklearn.model_selection.train_test_split(X, y,\n",
    "                                                                            test_size = 0.20,\n",
    "                                                                            random_state = 42)"
   ]
  },
  {
   "cell_type": "code",
   "execution_count": 145,
   "id": "872a83ec",
   "metadata": {},
   "outputs": [
    {
     "name": "stdout",
     "output_type": "stream",
     "text": [
      "                            OLS Regression Results                            \n",
      "==============================================================================\n",
      "Dep. Variable:        TotalThroughput   R-squared:                       0.985\n",
      "Model:                            OLS   Adj. R-squared:                  0.983\n",
      "Method:                 Least Squares   F-statistic:                     440.8\n",
      "Date:                Fri, 25 Aug 2023   Prob (F-statistic):           1.78e-23\n",
      "Time:                        09:50:57   Log-Likelihood:                -427.75\n",
      "No. Observations:                  31   AIC:                             865.5\n",
      "Df Residuals:                      26   BIC:                             872.7\n",
      "Df Model:                           4                                         \n",
      "Covariance Type:            nonrobust                                         \n",
      "============================================================================================\n",
      "                               coef    std err          t      P>|t|      [0.025      0.975]\n",
      "--------------------------------------------------------------------------------------------\n",
      "const                     3.796e+05   4.56e+05      0.833      0.412   -5.57e+05    1.32e+06\n",
      "Fitness (Gym) activities     0.9286      0.155      5.976      0.000       0.609       1.248\n",
      "Group Workout                3.7737      0.442      8.535      0.000       2.865       4.683\n",
      "Swimming - lessons           1.3591      0.355      3.824      0.001       0.629       2.090\n",
      "Swimming activities          0.5905      0.118      4.994      0.000       0.348       0.834\n",
      "==============================================================================\n",
      "Omnibus:                        0.417   Durbin-Watson:                   2.240\n",
      "Prob(Omnibus):                  0.812   Jarque-Bera (JB):                0.560\n",
      "Skew:                           0.207   Prob(JB):                        0.756\n",
      "Kurtosis:                       2.488   Cond. No.                     4.15e+07\n",
      "==============================================================================\n",
      "\n",
      "Notes:\n",
      "[1] Standard Errors assume that the covariance matrix of the errors is correctly specified.\n",
      "[2] The condition number is large, 4.15e+07. This might indicate that there are\n",
      "strong multicollinearity or other numerical problems.\n"
     ]
    }
   ],
   "source": [
    "# Training the model using the 'statsmodel' OLS library.\n",
    "# Fit the model with the added constant.\n",
    "model = sm.OLS(Y_train, sm.add_constant(X_train)).fit()\n",
    "\n",
    "# Set the predicted response vector.\n",
    "Y_pred = model.predict(sm.add_constant(X_test)) \n",
    "\n",
    "# Call a summary of the model.\n",
    "print_model = model.summary()\n",
    "\n",
    "# Print the summary.\n",
    "print(print_model)  "
   ]
  },
  {
   "cell_type": "code",
   "execution_count": 146,
   "id": "327b0268",
   "metadata": {},
   "outputs": [
    {
     "name": "stdout",
     "output_type": "stream",
     "text": [
      "0.9847683813764389\n"
     ]
    }
   ],
   "source": [
    "# printing the accuracy score\n",
    "print(mlr.score(X_train, Y_train))"
   ]
  },
  {
   "cell_type": "code",
   "execution_count": 147,
   "id": "d12d1fd4",
   "metadata": {},
   "outputs": [
    {
     "data": {
      "text/html": [
       "<style>#sk-container-id-20 {color: black;background-color: white;}#sk-container-id-20 pre{padding: 0;}#sk-container-id-20 div.sk-toggleable {background-color: white;}#sk-container-id-20 label.sk-toggleable__label {cursor: pointer;display: block;width: 100%;margin-bottom: 0;padding: 0.3em;box-sizing: border-box;text-align: center;}#sk-container-id-20 label.sk-toggleable__label-arrow:before {content: \"▸\";float: left;margin-right: 0.25em;color: #696969;}#sk-container-id-20 label.sk-toggleable__label-arrow:hover:before {color: black;}#sk-container-id-20 div.sk-estimator:hover label.sk-toggleable__label-arrow:before {color: black;}#sk-container-id-20 div.sk-toggleable__content {max-height: 0;max-width: 0;overflow: hidden;text-align: left;background-color: #f0f8ff;}#sk-container-id-20 div.sk-toggleable__content pre {margin: 0.2em;color: black;border-radius: 0.25em;background-color: #f0f8ff;}#sk-container-id-20 input.sk-toggleable__control:checked~div.sk-toggleable__content {max-height: 200px;max-width: 100%;overflow: auto;}#sk-container-id-20 input.sk-toggleable__control:checked~label.sk-toggleable__label-arrow:before {content: \"▾\";}#sk-container-id-20 div.sk-estimator input.sk-toggleable__control:checked~label.sk-toggleable__label {background-color: #d4ebff;}#sk-container-id-20 div.sk-label input.sk-toggleable__control:checked~label.sk-toggleable__label {background-color: #d4ebff;}#sk-container-id-20 input.sk-hidden--visually {border: 0;clip: rect(1px 1px 1px 1px);clip: rect(1px, 1px, 1px, 1px);height: 1px;margin: -1px;overflow: hidden;padding: 0;position: absolute;width: 1px;}#sk-container-id-20 div.sk-estimator {font-family: monospace;background-color: #f0f8ff;border: 1px dotted black;border-radius: 0.25em;box-sizing: border-box;margin-bottom: 0.5em;}#sk-container-id-20 div.sk-estimator:hover {background-color: #d4ebff;}#sk-container-id-20 div.sk-parallel-item::after {content: \"\";width: 100%;border-bottom: 1px solid gray;flex-grow: 1;}#sk-container-id-20 div.sk-label:hover label.sk-toggleable__label {background-color: #d4ebff;}#sk-container-id-20 div.sk-serial::before {content: \"\";position: absolute;border-left: 1px solid gray;box-sizing: border-box;top: 0;bottom: 0;left: 50%;z-index: 0;}#sk-container-id-20 div.sk-serial {display: flex;flex-direction: column;align-items: center;background-color: white;padding-right: 0.2em;padding-left: 0.2em;position: relative;}#sk-container-id-20 div.sk-item {position: relative;z-index: 1;}#sk-container-id-20 div.sk-parallel {display: flex;align-items: stretch;justify-content: center;background-color: white;position: relative;}#sk-container-id-20 div.sk-item::before, #sk-container-id-20 div.sk-parallel-item::before {content: \"\";position: absolute;border-left: 1px solid gray;box-sizing: border-box;top: 0;bottom: 0;left: 50%;z-index: -1;}#sk-container-id-20 div.sk-parallel-item {display: flex;flex-direction: column;z-index: 1;position: relative;background-color: white;}#sk-container-id-20 div.sk-parallel-item:first-child::after {align-self: flex-end;width: 50%;}#sk-container-id-20 div.sk-parallel-item:last-child::after {align-self: flex-start;width: 50%;}#sk-container-id-20 div.sk-parallel-item:only-child::after {width: 0;}#sk-container-id-20 div.sk-dashed-wrapped {border: 1px dashed gray;margin: 0 0.4em 0.5em 0.4em;box-sizing: border-box;padding-bottom: 0.4em;background-color: white;}#sk-container-id-20 div.sk-label label {font-family: monospace;font-weight: bold;display: inline-block;line-height: 1.2em;}#sk-container-id-20 div.sk-label-container {text-align: center;}#sk-container-id-20 div.sk-container {/* jupyter's `normalize.less` sets `[hidden] { display: none; }` but bootstrap.min.css set `[hidden] { display: none !important; }` so we also need the `!important` here to be able to override the default hidden behavior on the sphinx rendered scikit-learn.org. See: https://github.com/scikit-learn/scikit-learn/issues/21755 */display: inline-block !important;position: relative;}#sk-container-id-20 div.sk-text-repr-fallback {display: none;}</style><div id=\"sk-container-id-20\" class=\"sk-top-container\"><div class=\"sk-text-repr-fallback\"><pre>LinearRegression()</pre><b>In a Jupyter environment, please rerun this cell to show the HTML representation or trust the notebook. <br />On GitHub, the HTML representation is unable to render, please try loading this page with nbviewer.org.</b></div><div class=\"sk-container\" hidden><div class=\"sk-item\"><div class=\"sk-estimator sk-toggleable\"><input class=\"sk-toggleable__control sk-hidden--visually\" id=\"sk-estimator-id-20\" type=\"checkbox\" checked><label for=\"sk-estimator-id-20\" class=\"sk-toggleable__label sk-toggleable__label-arrow\">LinearRegression</label><div class=\"sk-toggleable__content\"><pre>LinearRegression()</pre></div></div></div></div></div>"
      ],
      "text/plain": [
       "LinearRegression()"
      ]
     },
     "execution_count": 147,
     "metadata": {},
     "output_type": "execute_result"
    }
   ],
   "source": [
    "# Specify the model.\n",
    "mlr = LinearRegression()  \n",
    "\n",
    "# Fit the model. We can only fit the model with the training data set.\n",
    "mlr.fit(X_train, Y_train)  "
   ]
  },
  {
   "cell_type": "code",
   "execution_count": 148,
   "id": "ea5784c6",
   "metadata": {},
   "outputs": [
    {
     "name": "stdout",
     "output_type": "stream",
     "text": [
      "Prediction for test set: [11285270.7242496  10569481.03467515 12257953.82328835  8231957.60216589\n",
      " 10872480.64047355 11079055.36498844 13117903.14411903 10951648.76941563]\n"
     ]
    }
   ],
   "source": [
    "# Call the predictions for X in the train set.\n",
    "y_pred_mlr = mlr.predict(X_test)  \n",
    "\n",
    "# Print the predictions.\n",
    "print(\"Prediction for test set: {}\".format(y_pred_mlr))"
   ]
  },
  {
   "cell_type": "code",
   "execution_count": 149,
   "id": "0b0f1826",
   "metadata": {},
   "outputs": [
    {
     "name": "stdout",
     "output_type": "stream",
     "text": [
      "0.9412141052116316\n"
     ]
    }
   ],
   "source": [
    "# printing the accuracy score\n",
    "print(mlr.score(X_test, Y_test))"
   ]
  },
  {
   "cell_type": "code",
   "execution_count": 150,
   "id": "bb0a1f0a",
   "metadata": {},
   "outputs": [
    {
     "name": "stdout",
     "output_type": "stream",
     "text": [
      "   VIF Factor                  features\n",
      "0        95.4                     const\n",
      "1         3.2  Fitness (Gym) activities\n",
      "2         6.9             Group Workout\n",
      "3         4.3        Swimming - lessons\n",
      "4         1.5       Swimming activities\n"
     ]
    }
   ],
   "source": [
    "# Check multicollinearity.\n",
    "x_temp = sm.add_constant(X_train)\n",
    "\n",
    "# Create an empty DataFrame. \n",
    "vif = pd.DataFrame()\n",
    "\n",
    "# Calculate the VIF for each value.\n",
    "vif['VIF Factor'] = [variance_inflation_factor(x_temp.values,\n",
    "                                               i) for i in range(x_temp.values.shape[1])]\n",
    "\n",
    "# Create the feature columns.\n",
    "vif['features'] = x_temp.columns\n",
    "\n",
    "# Print the values to one decimal points.\n",
    "print(vif.round(1))"
   ]
  },
  {
   "cell_type": "code",
   "execution_count": 151,
   "id": "38878ed9",
   "metadata": {},
   "outputs": [],
   "source": [
    "# Determine heteroscedasticity.\n",
    "model = sms.het_breuschpagan(model.resid, model.model.exog) "
   ]
  },
  {
   "cell_type": "code",
   "execution_count": 152,
   "id": "02c6d969",
   "metadata": {},
   "outputs": [
    {
     "name": "stdout",
     "output_type": "stream",
     "text": [
      "{'LM stat': 7.0265920391541625, 'LM Test p-value': 0.1344896131941033, 'F-stat': 1.9051462490896771, 'F-test p-value': 0.13964071735916572}\n"
     ]
    }
   ],
   "source": [
    "terms = ['LM stat', 'LM Test p-value', 'F-stat', 'F-test p-value']\n",
    "print(dict(zip(terms, model)))"
   ]
  },
  {
   "cell_type": "code",
   "execution_count": 153,
   "id": "1a8cce8a",
   "metadata": {},
   "outputs": [
    {
     "name": "stdout",
     "output_type": "stream",
     "text": [
      "Mean Absolute Error (Final): 263718.0180563419\n",
      "Mean Square Error (Final): 117739184383.2571\n"
     ]
    }
   ],
   "source": [
    "# Call the metrics.mean_absolute_error function.  \n",
    "print('Mean Absolute Error (Final):', metrics.mean_absolute_error(Y_test, Y_pred))  \n",
    "\n",
    "# Call the metrics.mean_squared_error function.\n",
    "print('Mean Square Error (Final):', metrics.mean_squared_error(Y_test, Y_pred))  "
   ]
  },
  {
   "cell_type": "code",
   "execution_count": 154,
   "id": "f1d4ee4d",
   "metadata": {},
   "outputs": [
    {
     "name": "stdout",
     "output_type": "stream",
     "text": [
      "                            OLS Regression Results                            \n",
      "==============================================================================\n",
      "Dep. Variable:        TotalThroughput   R-squared:                       0.981\n",
      "Model:                            OLS   Adj. R-squared:                  0.979\n",
      "Method:                 Least Squares   F-statistic:                     446.8\n",
      "Date:                Fri, 25 Aug 2023   Prob (F-statistic):           7.20e-29\n",
      "Time:                        09:50:57   Log-Likelihood:                -541.15\n",
      "No. Observations:                  39   AIC:                             1092.\n",
      "Df Residuals:                      34   BIC:                             1101.\n",
      "Df Model:                           4                                         \n",
      "Covariance Type:            nonrobust                                         \n",
      "============================================================================================\n",
      "                               coef    std err          t      P>|t|      [0.025      0.975]\n",
      "--------------------------------------------------------------------------------------------\n",
      "const                     1.714e+05   4.21e+05      0.407      0.687   -6.85e+05    1.03e+06\n",
      "Fitness (Gym) activities     0.9657      0.122      7.947      0.000       0.719       1.213\n",
      "Group Workout                3.6243      0.343     10.558      0.000       2.927       4.322\n",
      "Swimming - lessons           1.3714      0.330      4.162      0.000       0.702       2.041\n",
      "Swimming activities          0.7022      0.110      6.376      0.000       0.478       0.926\n",
      "==============================================================================\n",
      "Omnibus:                        2.328   Durbin-Watson:                   1.540\n",
      "Prob(Omnibus):                  0.312   Jarque-Bera (JB):                1.535\n",
      "Skew:                           0.477   Prob(JB):                        0.464\n",
      "Kurtosis:                       3.185   Cond. No.                     4.11e+07\n",
      "==============================================================================\n",
      "\n",
      "Notes:\n",
      "[1] Standard Errors assume that the covariance matrix of the errors is correctly specified.\n",
      "[2] The condition number is large, 4.11e+07. This might indicate that there are\n",
      "strong multicollinearity or other numerical problems.\n"
     ]
    }
   ],
   "source": [
    "# Running the model with the full sample dataset\n",
    "\n",
    "# Fit the model with the added constant.\n",
    "model = sm.OLS(y, sm.add_constant(X)).fit()\n",
    "\n",
    "# Set the predicted response vector.\n",
    "Y_pred = model.predict(sm.add_constant(X)) \n",
    "\n",
    "# Call a summary of the model.\n",
    "print_model = model.summary()\n",
    "\n",
    "# Print the summary.\n",
    "print(print_model)  "
   ]
  },
  {
   "cell_type": "code",
   "execution_count": 167,
   "id": "375c7f0f",
   "metadata": {},
   "outputs": [
    {
     "data": {
      "image/png": "[encoded data removed]",
      "text/plain": [
       "<Figure size 1000x800 with 2 Axes>"
      ]
     },
     "metadata": {},
     "output_type": "display_data"
    }
   ],
   "source": [
    "# Calculate correlation matrix\n",
    "Total_data = Total.corr()\n",
    "\n",
    "# Visualize correlation matrix as a heatmap\n",
    "plt.figure(figsize=(10, 8))\n",
    "sns.heatmap(Total_data, annot=True, cmap='coolwarm', center=0)\n",
    "plt.title('Correlation Heatmap')\n",
    "plt.show()"
   ]
  },
  {
   "cell_type": "code",
   "execution_count": 164,
   "id": "12fdb3ff",
   "metadata": {},
   "outputs": [
    {
     "data": {
      "text/html": [
       "<table class=\"simpletable\">\n",
       "<caption>OLS Regression Results</caption>\n",
       "<tr>\n",
       "  <th>Dep. Variable:</th>            <td>y</td>        <th>  R-squared:         </th> <td>   0.808</td>\n",
       "</tr>\n",
       "<tr>\n",
       "  <th>Model:</th>                   <td>OLS</td>       <th>  Adj. R-squared:    </th> <td>   0.803</td>\n",
       "</tr>\n",
       "<tr>\n",
       "  <th>Method:</th>             <td>Least Squares</td>  <th>  F-statistic:       </th> <td>   155.9</td>\n",
       "</tr>\n",
       "<tr>\n",
       "  <th>Date:</th>             <td>Fri, 25 Aug 2023</td> <th>  Prob (F-statistic):</th> <td>7.83e-15</td>\n",
       "</tr>\n",
       "<tr>\n",
       "  <th>Time:</th>                 <td>09:57:01</td>     <th>  Log-Likelihood:    </th> <td> -586.58</td>\n",
       "</tr>\n",
       "<tr>\n",
       "  <th>No. Observations:</th>      <td>    39</td>      <th>  AIC:               </th> <td>   1177.</td>\n",
       "</tr>\n",
       "<tr>\n",
       "  <th>Df Residuals:</th>          <td>    37</td>      <th>  BIC:               </th> <td>   1180.</td>\n",
       "</tr>\n",
       "<tr>\n",
       "  <th>Df Model:</th>              <td>     1</td>      <th>                     </th>     <td> </td>   \n",
       "</tr>\n",
       "<tr>\n",
       "  <th>Covariance Type:</th>      <td>nonrobust</td>    <th>                     </th>     <td> </td>   \n",
       "</tr>\n",
       "</table>\n",
       "<table class=\"simpletable\">\n",
       "<tr>\n",
       "      <td></td>         <th>coef</th>     <th>std err</th>      <th>t</th>      <th>P>|t|</th>  <th>[0.025</th>    <th>0.975]</th>  \n",
       "</tr>\n",
       "<tr>\n",
       "  <th>Intercept</th> <td> 2.443e+06</td> <td> 6.84e+05</td> <td>    3.572</td> <td> 0.001</td> <td> 1.06e+06</td> <td> 3.83e+06</td>\n",
       "</tr>\n",
       "<tr>\n",
       "  <th>x</th>         <td>    3.4456</td> <td>    0.276</td> <td>   12.484</td> <td> 0.000</td> <td>    2.886</td> <td>    4.005</td>\n",
       "</tr>\n",
       "</table>\n",
       "<table class=\"simpletable\">\n",
       "<tr>\n",
       "  <th>Omnibus:</th>       <td>15.302</td> <th>  Durbin-Watson:     </th> <td>   1.554</td>\n",
       "</tr>\n",
       "<tr>\n",
       "  <th>Prob(Omnibus):</th> <td> 0.000</td> <th>  Jarque-Bera (JB):  </th> <td>  16.612</td>\n",
       "</tr>\n",
       "<tr>\n",
       "  <th>Skew:</th>          <td>-1.430</td> <th>  Prob(JB):          </th> <td>0.000247</td>\n",
       "</tr>\n",
       "<tr>\n",
       "  <th>Kurtosis:</th>      <td> 4.429</td> <th>  Cond. No.          </th> <td>1.25e+07</td>\n",
       "</tr>\n",
       "</table><br/><br/>Notes:<br/>[1] Standard Errors assume that the covariance matrix of the errors is correctly specified.<br/>[2] The condition number is large, 1.25e+07. This might indicate that there are<br/>strong multicollinearity or other numerical problems."
      ],
      "text/plain": [
       "<class 'statsmodels.iolib.summary.Summary'>\n",
       "\"\"\"\n",
       "                            OLS Regression Results                            \n",
       "==============================================================================\n",
       "Dep. Variable:                      y   R-squared:                       0.808\n",
       "Model:                            OLS   Adj. R-squared:                  0.803\n",
       "Method:                 Least Squares   F-statistic:                     155.9\n",
       "Date:                Fri, 25 Aug 2023   Prob (F-statistic):           7.83e-15\n",
       "Time:                        09:57:01   Log-Likelihood:                -586.58\n",
       "No. Observations:                  39   AIC:                             1177.\n",
       "Df Residuals:                      37   BIC:                             1180.\n",
       "Df Model:                           1                                         \n",
       "Covariance Type:            nonrobust                                         \n",
       "==============================================================================\n",
       "                 coef    std err          t      P>|t|      [0.025      0.975]\n",
       "------------------------------------------------------------------------------\n",
       "Intercept   2.443e+06   6.84e+05      3.572      0.001    1.06e+06    3.83e+06\n",
       "x              3.4456      0.276     12.484      0.000       2.886       4.005\n",
       "==============================================================================\n",
       "Omnibus:                       15.302   Durbin-Watson:                   1.554\n",
       "Prob(Omnibus):                  0.000   Jarque-Bera (JB):               16.612\n",
       "Skew:                          -1.430   Prob(JB):                     0.000247\n",
       "Kurtosis:                       4.429   Cond. No.                     1.25e+07\n",
       "==============================================================================\n",
       "\n",
       "Notes:\n",
       "[1] Standard Errors assume that the covariance matrix of the errors is correctly specified.\n",
       "[2] The condition number is large, 1.25e+07. This might indicate that there are\n",
       "strong multicollinearity or other numerical problems.\n",
       "\"\"\""
      ]
     },
     "execution_count": 164,
     "metadata": {},
     "output_type": "execute_result"
    }
   ],
   "source": [
    "# Independent variable.\n",
    "x = Total['UniquePeople']\n",
    "\n",
    "# Dependent variable.\n",
    "y = Total['TotalThroughput']\n",
    "\n",
    "# OLS model and summary.\n",
    "f = 'y ~ x'\n",
    "test = ols(f, data = Total).fit()\n",
    "test.summary()"
   ]
  },
  {
   "cell_type": "code",
   "execution_count": 165,
   "id": "83ed6e4a",
   "metadata": {},
   "outputs": [
    {
     "data": {
      "text/plain": [
       "0     1.280844e+07\n",
       "1     1.271335e+07\n",
       "2     1.302065e+07\n",
       "3     1.327287e+07\n",
       "4     1.328235e+07\n",
       "5     1.268155e+07\n",
       "6     1.297625e+07\n",
       "7     1.233304e+07\n",
       "8     1.073465e+07\n",
       "9     1.323809e+07\n",
       "10    1.356519e+07\n",
       "11    1.028265e+07\n",
       "12    6.257396e+06\n",
       "13    8.101399e+06\n",
       "14    8.488522e+06\n",
       "15    9.118099e+06\n",
       "16    9.842233e+06\n",
       "17    9.621119e+06\n",
       "18    9.898806e+06\n",
       "19    9.646220e+06\n",
       "20    8.353755e+06\n",
       "21    9.935278e+06\n",
       "22    1.075330e+07\n",
       "23    1.079268e+07\n",
       "24    1.012821e+07\n",
       "25    1.026748e+07\n",
       "26    1.025536e+07\n",
       "27    1.060174e+07\n",
       "28    1.120683e+07\n",
       "29    1.019934e+07\n",
       "30    1.051664e+07\n",
       "31    1.013556e+07\n",
       "32    8.859258e+06\n",
       "33    1.052413e+07\n",
       "34    1.067390e+07\n",
       "35    1.092528e+07\n",
       "36    1.218053e+07\n",
       "37    1.333564e+07\n",
       "38    1.012233e+07\n",
       "Name: UniquePeople, dtype: float64"
      ]
     },
     "execution_count": 165,
     "metadata": {},
     "output_type": "execute_result"
    }
   ],
   "source": [
    "# Set the X coefficient and the constant to generate the regression table.\n",
    "y_pred = 2.443e+06 + 3.4456 * Total['UniquePeople']\n",
    "\n",
    "# View the output.\n",
    "y_pred"
   ]
  },
  {
   "cell_type": "code",
   "execution_count": 166,
   "id": "10e22005",
   "metadata": {},
   "outputs": [
    {
     "data": {
      "image/png": "[encoded data removed]",
      "text/plain": [
       "<Figure size 640x480 with 1 Axes>"
      ]
     },
     "metadata": {},
     "output_type": "display_data"
    }
   ],
   "source": [
    "# Plot the graph with a regression line.\n",
    "plt.scatter(x, y)\n",
    "\n",
    "# Plot the regression line (in black).\n",
    "plt.plot(x, y_pred, color='black')\n",
    "\n",
    "# Set the x and y limits on the axes.\n",
    "plt.title(\"Relationship between Unique People and Total Throughput\")\n",
    "plt.xlabel(\"Unique People\")\n",
    "plt.ylabel(\"Total throughput\")\n",
    "# plt.xlim(0)\n",
    "# plt.ylim(0)\n",
    "\n",
    "# View the plot.\n",
    "plt.show()"
   ]
  },
  {
   "cell_type": "code",
   "execution_count": null,
   "id": "931c116a",
   "metadata": {},
   "outputs": [],
   "source": []
  }
 ],
 "metadata": {
  "kernelspec": {
   "display_name": "Python 3 (ipykernel)",
   "language": "python",
   "name": "python3"
  },
  "language_info": {
   "codemirror_mode": {
    "name": "ipython",
    "version": 3
   },
   "file_extension": ".py",
   "mimetype": "text/x-python",
   "name": "python",
   "nbconvert_exporter": "python",
   "pygments_lexer": "ipython3",
   "version": "3.9.13"
  }
 },
 "nbformat": 4,
 "nbformat_minor": 5
}
